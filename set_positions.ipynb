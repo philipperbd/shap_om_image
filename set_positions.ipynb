{
 "cells": [
  {
   "cell_type": "code",
   "execution_count": 1,
   "metadata": {},
   "outputs": [
    {
     "name": "stdout",
     "output_type": "stream",
     "text": [
      "Positions for RShoulder 98 134\n",
      "Positions for RElbow 54 178\n",
      "Positions for RWrist 23 146\n",
      "Positions for LShoulder 186 128\n",
      "Positions for LElbow 222 178\n",
      "Positions for LWrist 256 141\n",
      "Positions for RHip 113 231\n",
      "Positions for RKnee 75 273\n",
      "Positions for RAnkle 113 319\n",
      "Positions for LHip 174 230\n",
      "Positions for LKnee 210 275\n",
      "Positions for LAnkle 168 325\n",
      "Positions for LShoulder-LElbow 206 151\n",
      "Positions for RShoulder-RElbow 76 159\n",
      "Positions for LElbow-LWrist 249 154\n",
      "Positions for RElbow-RWrist 35 157\n",
      "Positions for LHip-LKnee 196 255\n",
      "Positions for RHip-RKnee 91 250\n",
      "Positions for LKnee-LAnkle 180 307\n",
      "Positions for RKnee-RAnkle 97 303\n",
      "Positions for up_right 53 178\n",
      "Positions for up_left 224 170\n",
      "Positions for down_right 82 276\n",
      "Positions for down_left 206 277\n",
      "Positions for Nose 141 69\n",
      "Positions for LEar 181 57\n",
      "Positions for REar 101 57\n",
      "Positions for LEye 160 41\n",
      "Positions for REye "
     ]
    },
    {
     "ename": "",
     "evalue": "",
     "output_type": "error",
     "traceback": [
      "\u001b[1;31mCanceled future for execute_request message before replies were done"
     ]
    },
    {
     "ename": "",
     "evalue": "",
     "output_type": "error",
     "traceback": [
      "\u001b[1;31mThe Kernel crashed while executing code in the the current cell or a previous cell. Please review the code in the cell(s) to identify a possible cause of the failure. Click <a href='https://aka.ms/vscodeJupyterKernelCrash'>here</a> for more info. View Jupyter <a href='command:jupyter.viewOutput'>log</a> for further details."
     ]
    }
   ],
   "source": [
    "from shap_on_image.ShapOnImageAuto import ShapOnImageAuto\n",
    "import json\n",
    "\n",
    "image = 'baby_legend.png'\n",
    "features = [\n",
    "    \"RShoulder\", \"RElbow\", \"RWrist\", \"LShoulder\", \"LElbow\", \"LWrist\",\n",
    "    \"RHip\", \"RKnee\", \"RAnkle\", \"LHip\", \"LKnee\", \"LAnkle\",\n",
    "\n",
    "    \"LShoulder-LElbow\", \"RShoulder-RElbow\", \"LElbow-LWrist\", \"RElbow-RWrist\",\n",
    "    \"LHip-LKnee\", \"RHip-RKnee\", \"LKnee-LAnkle\", \"RKnee-RAnkle\",\n",
    "\n",
    "    \"up_right\", \"up_left\", \"down_right\", \"down_left\",\n",
    "    \"Nose\", \"LEar\", \"REar\", \"LEye\", \"REye\"]\n",
    "\n",
    "path = \"Data/V2\"\n",
    "\n",
    "r_path, version = path.rsplit('/', 1)\n",
    "\n",
    "with open(r_path + '/values.json') as json_file:\n",
    "    values = json.load(json_file)\n",
    "with open(r_path + '/positions.json') as pos_file:\n",
    "    positions = json.load(pos_file)\n",
    "\n",
    "with open(path + '/shap_scalled.json') as shap_file:\n",
    "    shap = json.load(shap_file)\n",
    "with open(path + '/stats.json') as stats_file:\n",
    "    stats = json.load(stats_file)\n",
    "\n",
    "\n",
    "ShapImAuto = ShapOnImageAuto(\n",
    "    image=image, features=features,\n",
    "    values=values, shap=shap, stats=stats)\n",
    "\n",
    "ShapImAuto.set_positions()"
   ]
  },
  {
   "cell_type": "code",
   "execution_count": null,
   "metadata": {},
   "outputs": [],
   "source": [
    "print(ShapImAuto.get_positions())"
   ]
  }
 ],
 "metadata": {
  "kernelspec": {
   "display_name": "Python 3.8.10 ('venv': venv)",
   "language": "python",
   "name": "python3"
  },
  "language_info": {
   "codemirror_mode": {
    "name": "ipython",
    "version": 3
   },
   "file_extension": ".py",
   "mimetype": "text/x-python",
   "name": "python",
   "nbconvert_exporter": "python",
   "pygments_lexer": "ipython3",
   "version": "3.8.10"
  },
  "orig_nbformat": 4,
  "vscode": {
   "interpreter": {
    "hash": "8a9255f2e197c17b6457479460178fc2cff4003fa59043f2b13630e7691933f3"
   }
  }
 },
 "nbformat": 4,
 "nbformat_minor": 2
}
