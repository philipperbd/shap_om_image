{
 "cells": [
  {
   "cell_type": "markdown",
   "metadata": {},
   "source": [
    "# ShapOnImage"
   ]
  },
  {
   "cell_type": "code",
   "execution_count": 1,
   "metadata": {},
   "outputs": [
    {
     "ename": "ModuleNotFoundError",
     "evalue": "No module named 'matplotlib'",
     "output_type": "error",
     "traceback": [
      "\u001b[0;31m---------------------------------------------------------------------------\u001b[0m",
      "\u001b[0;31mModuleNotFoundError\u001b[0m                       Traceback (most recent call last)",
      "Cell \u001b[0;32mIn[1], line 1\u001b[0m\n\u001b[0;32m----> 1\u001b[0m \u001b[39mfrom\u001b[39;00m \u001b[39mshap_on_image\u001b[39;00m\u001b[39m.\u001b[39;00m\u001b[39mShapOnImage\u001b[39;00m \u001b[39mimport\u001b[39;00m ShapOnImage\n",
      "File \u001b[0;32m~/Documents/THESE/Packages/shap_on_image/shap_on_image/ShapOnImage.py:1\u001b[0m\n\u001b[0;32m----> 1\u001b[0m \u001b[39mfrom\u001b[39;00m \u001b[39mmatplotlib\u001b[39;00m \u001b[39mimport\u001b[39;00m pyplot \u001b[39mas\u001b[39;00m plt\n\u001b[1;32m      2\u001b[0m \u001b[39mimport\u001b[39;00m \u001b[39mos\u001b[39;00m\n\u001b[1;32m      3\u001b[0m \u001b[39mimport\u001b[39;00m \u001b[39mcv2\u001b[39;00m\n",
      "\u001b[0;31mModuleNotFoundError\u001b[0m: No module named 'matplotlib'"
     ]
    }
   ],
   "source": [
    "from shap_on_image.ShapOnImage import ShapOnImage"
   ]
  },
  {
   "cell_type": "code",
   "execution_count": 2,
   "metadata": {},
   "outputs": [],
   "source": [
    "image = 'image_test.jpg'\n",
    "features = ['RShoulder', 'LShoulder', 'RHip', 'LHip']\n",
    "shap = [4.23, 2.13, -1.21, -5.21]"
   ]
  },
  {
   "cell_type": "code",
   "execution_count": 3,
   "metadata": {},
   "outputs": [],
   "source": [
    "# Init class with image, features and shap values\n",
    "ShapIm = ShapOnImage(image, features, shap)"
   ]
  },
  {
   "cell_type": "code",
   "execution_count": 4,
   "metadata": {},
   "outputs": [
    {
     "name": "stdout",
     "output_type": "stream",
     "text": [
      "Positions for RShoulder 344 305\n",
      "Positions for LShoulder 654 445\n",
      "Positions for RHip 400 146\n",
      "Positions for LHip 183 445\n"
     ]
    }
   ],
   "source": [
    "# Use tool to get positions of features\n",
    "ShapIm.set_positions()"
   ]
  },
  {
   "cell_type": "code",
   "execution_count": 5,
   "metadata": {},
   "outputs": [
    {
     "data": {
      "image/png": "[encoded data removed]",
      "text/plain": [
       "<Figure size 432x288 with 1 Axes>"
      ]
     },
     "metadata": {
      "needs_background": "light"
     },
     "output_type": "display_data"
    }
   ],
   "source": [
    "# Plot single observation image with suptitle and title\n",
    "suptitle = \"TEST IMAGE\"\n",
    "title = \"ShapOnImage package\"\n",
    "ShapIm.plot(suptitle=suptitle, title=title, alpha=30)"
   ]
  },
  {
   "cell_type": "markdown",
   "metadata": {},
   "source": [
    "# ShapOnImageAuto"
   ]
  },
  {
   "cell_type": "code",
   "execution_count": 1,
   "metadata": {},
   "outputs": [],
   "source": [
    "from shap_on_image.ShapOnImageAuto import ShapOnImageAuto\n",
    "image = 'image_test.jpg'\n",
    "features = ['R', 'L', 'S', 'W', 'X', 'J']\n",
    "shap = {\n",
    "    'bdd1': {'R': 3, 'L':2, 'W': -4, 'J': -8},\n",
    "    'bdd2': {'R': 5, 'S': -2, 'L': -7, 'X': 12}}"
   ]
  },
  {
   "cell_type": "code",
   "execution_count": 3,
   "metadata": {},
   "outputs": [],
   "source": [
    "positions = {'R': {'x': 302, 'y': 317},\n",
    " 'L': {'x': 493, 'y': 313},\n",
    " 'S': {'x': 317, 'y': 505},\n",
    " 'W': {'x': 467, 'y': 501},\n",
    " 'X': {'x': 400, 'y': 155},\n",
    " 'J': {'x': 408, 'y': 403}}"
   ]
  },
  {
   "cell_type": "code",
   "execution_count": 4,
   "metadata": {},
   "outputs": [],
   "source": [
    "ShapImAuto = ShapOnImageAuto(image=image, features=features, shap=shap, positions=positions)"
   ]
  },
  {
   "cell_type": "code",
   "execution_count": 3,
   "metadata": {},
   "outputs": [
    {
     "name": "stdout",
     "output_type": "stream",
     "text": [
      "Positions for R 312 316\n",
      "Positions for L 479 318\n",
      "Positions for S 299 526\n",
      "Positions for W 493 529\n",
      "Positions for X 420 407\n",
      "Positions for J "
     ]
    },
    {
     "ename": "",
     "evalue": "",
     "output_type": "error",
     "traceback": [
      "\u001b[1;31mCanceled future for execute_request message before replies were done"
     ]
    },
    {
     "ename": "",
     "evalue": "",
     "output_type": "error",
     "traceback": [
      "\u001b[1;31mThe Kernel crashed while executing code in the the current cell or a previous cell. Please review the code in the cell(s) to identify a possible cause of the failure. Click <a href='https://aka.ms/vscodeJupyterKernelCrash'>here</a> for more info. View Jupyter <a href='command:jupyter.viewOutput'>log</a> for further details."
     ]
    }
   ],
   "source": [
    "ShapImAuto.set_positions()"
   ]
  },
  {
   "cell_type": "code",
   "execution_count": null,
   "metadata": {},
   "outputs": [],
   "source": [
    "ShapImAuto.get_positions()"
   ]
  },
  {
   "cell_type": "code",
   "execution_count": null,
   "metadata": {},
   "outputs": [],
   "source": [
    "# ShapImAuto = ShapOnImageAuto(image=image, features=features, shap=shap, positions=positions)"
   ]
  },
  {
   "cell_type": "code",
   "execution_count": 5,
   "metadata": {},
   "outputs": [
    {
     "name": "stdout",
     "output_type": "stream",
     "text": [
      "bdd1\n",
      "bdd2\n"
     ]
    }
   ],
   "source": [
    "ShapImAuto.create_plots(\"outputs/\", alpha=20)"
   ]
  },
  {
   "attachments": {},
   "cell_type": "markdown",
   "metadata": {},
   "source": [
    "# Automatisation"
   ]
  },
  {
   "cell_type": "code",
   "execution_count": 1,
   "metadata": {},
   "outputs": [],
   "source": [
    "import pandas as pd\n",
    "from shap_on_image.ShapOnImageAuto import ShapOnImageAuto"
   ]
  },
  {
   "cell_type": "code",
   "execution_count": 2,
   "metadata": {},
   "outputs": [],
   "source": [
    "image = 'bebe.jpg'"
   ]
  },
  {
   "cell_type": "code",
   "execution_count": 3,
   "metadata": {},
   "outputs": [],
   "source": [
    "features =  [\"RShoulder\",\"RElbow\",\"RWrist\",\"LShoulder\",\"LElbow\",\"LWrist\",\"RHip\",\n",
    "        \"RKnee\",\"RAnkle\",\"LHip\",\"LKnee\",\"LAnkle\",\"LShoulder-LElbow\",\"RShoulder-RElbow\",\n",
    "        \"LElbow-LWrist\",\"RElbow-RWrist\",\"LHip-LKnee\",\"RHip-RKnee\",\"LKnee-LAnkle\",\"RKnee-RAnkle\",\n",
    "        \"up_right\",\"up_left\",\"down_right\",\"down_left\"]\n",
    "features_1 =  [\"RShoulder\",\"RElbow\",\"RWrist\",\"LShoulder\",\"LElbow\",\"LWrist\",\"RHip\",\"RKnee\",\"RAnkle\",\"LHip\",\"LKnee\",\"LAnkle\"]\n",
    "features_2 =  [\"LShoulder-LElbow\",\"RShoulder-RElbow\",\"LElbow-LWrist\",\"RElbow-RWrist\",\"LHip-LKnee\",\"RHip-RKnee\",\"LKnee-LAnkle\",\"RKnee-RAnkle\"]\n",
    "#features_3 = [\"top_right\",\"top_left\",\"bot_right\",\"bot_left\"]\n",
    "features_3 = [\"up_right\",\"up_left\",\"down_right\",\"down_left\"]"
   ]
  },
  {
   "cell_type": "code",
   "execution_count": 4,
   "metadata": {},
   "outputs": [],
   "source": [
    "from os import listdir\n",
    "from os.path import isfile, join\n",
    "path = 'outputs_shap'\n",
    "files = [f for f in listdir(path) if isfile(join(path, f))]"
   ]
  },
  {
   "cell_type": "code",
   "execution_count": 6,
   "metadata": {},
   "outputs": [],
   "source": [
    "shap = {}\n",
    "for bdd in files:\n",
    "    values = pd.read_csv(path + '/' + bdd)\n",
    "    if 'Unnamed: 0' in values.columns:\n",
    "        values = values.drop(['Unnamed: 0'], axis=1)\n",
    "    shap[bdd[:-4]] = values.to_dict(\"records\")\n",
    "    "
   ]
  },
  {
   "cell_type": "code",
   "execution_count": 7,
   "metadata": {},
   "outputs": [],
   "source": [
    "ShapImAuto = ShapOnImageAuto(image, features, shap)"
   ]
  },
  {
   "cell_type": "code",
   "execution_count": 8,
   "metadata": {},
   "outputs": [
    {
     "name": "stdout",
     "output_type": "stream",
     "text": [
      "Positions for RShoulder 253 149\n",
      "Positions for RElbow 174 282\n",
      "Positions for RWrist 97 438\n",
      "Positions for LShoulder 562 148\n",
      "Positions for LElbow 654 276\n",
      "Positions for LWrist 738 399\n",
      "Positions for RHip 395 342\n",
      "Positions for RKnee 323 437\n",
      "Positions for RAnkle 240 582\n",
      "Positions for LHip 574 331\n",
      "Positions for LKnee 628 430\n",
      "Positions for LAnkle 734 572\n",
      "Positions for LShoulder-LElbow 293 204\n",
      "Positions for RShoulder-RElbow 202 341\n",
      "Positions for LElbow-LWrist 614 196\n",
      "Positions for RElbow-RWrist 742 332\n",
      "Positions for LHip-LKnee 418 377\n",
      "Positions for RHip-RKnee 315 508\n",
      "Positions for LKnee-LAnkle 634 372\n",
      "Positions for RKnee-RAnkle 720 511\n",
      "Positions for up_right 342 263\n",
      "Positions for up_left 540 268\n",
      "Positions for down_right 273 528\n",
      "Positions for down_left 488 524\n"
     ]
    }
   ],
   "source": [
    "ShapImAuto.set_positions()"
   ]
  },
  {
   "cell_type": "code",
   "execution_count": 9,
   "metadata": {},
   "outputs": [],
   "source": [
    "ShapImAuto.create_plots(\"outputs_ShapOnImageAuto/\", alpha=50)"
   ]
  }
 ],
 "metadata": {
  "kernelspec": {
   "display_name": "Python 3.8.10 ('venv': venv)",
   "language": "python",
   "name": "python3"
  },
  "language_info": {
   "codemirror_mode": {
    "name": "ipython",
    "version": 3
   },
   "file_extension": ".py",
   "mimetype": "text/x-python",
   "name": "python",
   "nbconvert_exporter": "python",
   "pygments_lexer": "ipython3",
   "version": "3.8.10"
  },
  "orig_nbformat": 4,
  "vscode": {
   "interpreter": {
    "hash": "8a9255f2e197c17b6457479460178fc2cff4003fa59043f2b13630e7691933f3"
   }
  }
 },
 "nbformat": 4,
 "nbformat_minor": 2
}
