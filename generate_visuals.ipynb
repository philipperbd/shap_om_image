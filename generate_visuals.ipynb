{
 "cells": [
  {
   "cell_type": "code",
   "execution_count": 1,
   "metadata": {},
   "outputs": [],
   "source": [
    "from shap_on_image.ShapOnImageAuto import ShapOnImageAuto\n",
    "import json"
   ]
  },
  {
   "cell_type": "code",
   "execution_count": 2,
   "metadata": {},
   "outputs": [],
   "source": [
    "# TODO: créer un visuel bébé plus propre avec segments\n",
    "image = 'image_test.jpg'"
   ]
  },
  {
   "cell_type": "code",
   "execution_count": 3,
   "metadata": {},
   "outputs": [],
   "source": [
    "# TODO: récupérer l'ensemble des features\n",
    "features = [\n",
    "    \"RShoulder\",\"RElbow\",\"RWrist\",\"LShoulder\",\"LElbow\",\"LWrist\",\n",
    "    \"RHip\", \"RKnee\",\"RAnkle\",\"LHip\",\"LKnee\",\"LAnkle\",\n",
    "\n",
    "    \"LShoulder-LElbow\",\"RShoulder-RElbow\",\"LElbow-LWrist\",\"RElbow-RWrist\",\n",
    "    \"LHip-LKnee\",\"RHip-RKnee\",\"LKnee-LAnkle\",\"RKnee-RAnkle\",\n",
    "\n",
    "    \"up_right\",\"up_left\",\"down_right\",\"down_left\",\n",
    "    \"Nose\", \"LEar\", \"REar\", \"LEye\", \"REye\"]"
   ]
  },
  {
   "cell_type": "code",
   "execution_count": 4,
   "metadata": {},
   "outputs": [],
   "source": [
    "with open('dict_by_dataset.json') as json_file:\n",
    "    shap = json.load(json_file)"
   ]
  },
  {
   "cell_type": "code",
   "execution_count": 5,
   "metadata": {},
   "outputs": [],
   "source": [
    "# TODO: créer une première fois puis récupérer via package\n",
    "positions = {'RShoulder': {'x': 325, 'y': 297},\n",
    " 'RElbow': {'x': 267, 'y': 360},\n",
    " 'RWrist': {'x': 192, 'y': 426},\n",
    " 'LShoulder': {'x': 473, 'y': 296},\n",
    " 'LElbow': {'x': 544, 'y': 361},\n",
    " 'LWrist': {'x': 620, 'y': 430},\n",
    " 'RHip': {'x': 357, 'y': 497},\n",
    " 'RKnee': {'x': 267, 'y': 585},\n",
    " 'RAnkle': {'x': 355, 'y': 697},\n",
    " 'LHip': {'x': 460, 'y': 504},\n",
    " 'LKnee': {'x': 534, 'y': 573},\n",
    " 'LAnkle': {'x': 462, 'y': 692},\n",
    " 'LShoulder-LElbow': {'x': 525, 'y': 330},\n",
    " 'RShoulder-RElbow': {'x': 301, 'y': 327},\n",
    " 'LElbow-LWrist': {'x': 588, 'y': 399},\n",
    " 'RElbow-RWrist': {'x': 236, 'y': 391},\n",
    " 'LHip-LKnee': {'x': 505, 'y': 535},\n",
    " 'RHip-RKnee': {'x': 300, 'y': 535},\n",
    " 'LKnee-LAnkle': {'x': 516, 'y': 639},\n",
    " 'RKnee-RAnkle': {'x': 310, 'y': 650},\n",
    " 'up_right': {'x': 296, 'y': 375},\n",
    " 'up_left': {'x': 510, 'y': 384},\n",
    " 'down_right': {'x': 323, 'y': 608},\n",
    " 'down_left': {'x': 480, 'y': 596},\n",
    " 'Nose': {'x': 397, 'y': 178},\n",
    " 'LEar': {'x': 482, 'y': 135},\n",
    " 'REar': {'x': 317, 'y': 140},\n",
    " 'LEye': {'x': 438, 'y': 93},\n",
    " 'REye': {'x': 376, 'y': 92}}"
   ]
  },
  {
   "cell_type": "code",
   "execution_count": 6,
   "metadata": {},
   "outputs": [],
   "source": [
    "#ShapImAuto = ShapOnImageAuto(image=image, features=features, shap=shap)\n",
    "auc = {'segments_len': {\n",
    "    'auc': 97.21,\n",
    "    'std': 0.02},}\n",
    "ShapImAuto = ShapOnImageAuto(image=image, features=features, positions=positions, shap=shap, auc=auc)\n",
    "#ShapImAuto = ShapOnImageAuto(image=image, features=features, shap=shap, positions=positions)"
   ]
  },
  {
   "cell_type": "code",
   "execution_count": 7,
   "metadata": {},
   "outputs": [
    {
     "ename": "KeyError",
     "evalue": "'LShoulder-LElbow'",
     "output_type": "error",
     "traceback": [
      "\u001b[0;31m---------------------------------------------------------------------------\u001b[0m",
      "\u001b[0;31mKeyError\u001b[0m                                  Traceback (most recent call last)",
      "Cell \u001b[0;32mIn[7], line 1\u001b[0m\n\u001b[0;32m----> 1\u001b[0m ShapImAuto\u001b[39m.\u001b[39;49mcreate_plots(path\u001b[39m=\u001b[39;49m\u001b[39m\"\u001b[39;49m\u001b[39mvisuals/\u001b[39;49m\u001b[39m\"\u001b[39;49m, alpha\u001b[39m=\u001b[39;49m\u001b[39m180\u001b[39;49m)\n",
      "File \u001b[0;32m~/Documents/THESE/Packages/shap_on_image/shap_on_image/ShapOnImageAuto.py:94\u001b[0m, in \u001b[0;36mShapOnImageAuto.create_plots\u001b[0;34m(self, path, alpha)\u001b[0m\n\u001b[1;32m     86\u001b[0m \u001b[39m\u001b[39m\u001b[39m\"\"\"Create several plots and save them in path.\u001b[39;00m\n\u001b[1;32m     87\u001b[0m \n\u001b[1;32m     88\u001b[0m \u001b[39mArgs:\u001b[39;00m\n\u001b[1;32m     89\u001b[0m \u001b[39m    path (str, optional): Path to output plots. Defaults to \"\".\u001b[39;00m\n\u001b[1;32m     90\u001b[0m \u001b[39m    alpha (int, optional): Coefficient to multiply shap values by. Defaults to 1.\u001b[39;00m\n\u001b[1;32m     91\u001b[0m \u001b[39m\"\"\"\u001b[39;00m\n\u001b[1;32m     92\u001b[0m \u001b[39mfor\u001b[39;00m plot_name, _ \u001b[39min\u001b[39;00m \u001b[39mself\u001b[39m\u001b[39m.\u001b[39mshap\u001b[39m.\u001b[39mitems():\n\u001b[1;32m     93\u001b[0m     \u001b[39m#print(plot_name)\u001b[39;00m\n\u001b[0;32m---> 94\u001b[0m     \u001b[39mself\u001b[39;49m\u001b[39m.\u001b[39;49mcreate_plot(path, plot_name, alpha\u001b[39m=\u001b[39;49malpha)\n",
      "File \u001b[0;32m~/Documents/THESE/Packages/shap_on_image/shap_on_image/ShapOnImageAuto.py:73\u001b[0m, in \u001b[0;36mShapOnImageAuto.create_plot\u001b[0;34m(self, path, plot_name, suptitle, title, alpha)\u001b[0m\n\u001b[1;32m     70\u001b[0m \u001b[39mfor\u001b[39;00m feature, shap_value \u001b[39min\u001b[39;00m \u001b[39mself\u001b[39m\u001b[39m.\u001b[39mshap[plot_name]\u001b[39m.\u001b[39mitems():\n\u001b[1;32m     71\u001b[0m     \u001b[39m#try:\u001b[39;00m\n\u001b[1;32m     72\u001b[0m         shap \u001b[39m=\u001b[39m shap_value \u001b[39m*\u001b[39m alpha\n\u001b[0;32m---> 73\u001b[0m         x \u001b[39m=\u001b[39m \u001b[39mself\u001b[39;49m\u001b[39m.\u001b[39;49mpositions[feature][\u001b[39m'\u001b[39m\u001b[39mx\u001b[39m\u001b[39m'\u001b[39m]\n\u001b[1;32m     74\u001b[0m         y \u001b[39m=\u001b[39m \u001b[39mself\u001b[39m\u001b[39m.\u001b[39mpositions[feature][\u001b[39m'\u001b[39m\u001b[39my\u001b[39m\u001b[39m'\u001b[39m]\n\u001b[1;32m     75\u001b[0m         \u001b[39mprint\u001b[39m(shap, x , y)\n",
      "\u001b[0;31mKeyError\u001b[0m: 'LShoulder-LElbow'"
     ]
    },
    {
     "data": {
      "image/png": "[encoded data removed]",
      "text/plain": [
       "<Figure size 640x480 with 1 Axes>"
      ]
     },
     "metadata": {},
     "output_type": "display_data"
    }
   ],
   "source": [
    "ShapImAuto.create_plots(path=\"visuals/\", alpha=180)"
   ]
  },
  {
   "cell_type": "code",
   "execution_count": 6,
   "metadata": {},
   "outputs": [
    {
     "name": "stdout",
     "output_type": "stream",
     "text": [
      "Positions for RShoulder 325 297\n",
      "Positions for RElbow 267 360\n",
      "Positions for RWrist 192 426\n",
      "Positions for LShoulder 473 296\n",
      "Positions for LElbow 544 361\n",
      "Positions for LWrist 620 430\n",
      "Positions for RHip 357 497\n",
      "Positions for RKnee 267 585\n",
      "Positions for RAnkle 355 697\n",
      "Positions for LHip 460 504\n",
      "Positions for LKnee 534 573\n",
      "Positions for LAnkle 462 692\n",
      "Positions for LShoulder-LElbow 525 330\n",
      "Positions for RShoulder-RElbow 301 327\n",
      "Positions for LElbow-LWrist 588 399\n",
      "Positions for RElbow-RWrist 236 391\n",
      "Positions for LHip-LKnee 505 535\n",
      "Positions for RHip-RKnee 300 535\n",
      "Positions for LKnee-LAnkle 516 639\n",
      "Positions for RKnee-RAnkle 310 650\n",
      "Positions for up_right 296 375\n",
      "Positions for up_left 510 384\n",
      "Positions for down_right 323 608\n",
      "Positions for down_left 480 596\n",
      "Positions for Nose 397 178\n",
      "Positions for LEar 482 135\n",
      "Positions for REar 317 140\n",
      "Positions for LEye 438 93\n",
      "Positions for REye 376 92\n"
     ]
    }
   ],
   "source": [
    "ShapImAuto.set_positions()"
   ]
  },
  {
   "cell_type": "code",
   "execution_count": 7,
   "metadata": {},
   "outputs": [
    {
     "data": {
      "text/plain": [
       "{'RShoulder': {'x': 325, 'y': 297},\n",
       " 'RElbow': {'x': 267, 'y': 360},\n",
       " 'RWrist': {'x': 192, 'y': 426},\n",
       " 'LShoulder': {'x': 473, 'y': 296},\n",
       " 'LElbow': {'x': 544, 'y': 361},\n",
       " 'LWrist': {'x': 620, 'y': 430},\n",
       " 'RHip': {'x': 357, 'y': 497},\n",
       " 'RKnee': {'x': 267, 'y': 585},\n",
       " 'RAnkle': {'x': 355, 'y': 697},\n",
       " 'LHip': {'x': 460, 'y': 504},\n",
       " 'LKnee': {'x': 534, 'y': 573},\n",
       " 'LAnkle': {'x': 462, 'y': 692},\n",
       " 'LShoulder-LElbow': {'x': 525, 'y': 330},\n",
       " 'RShoulder-RElbow': {'x': 301, 'y': 327},\n",
       " 'LElbow-LWrist': {'x': 588, 'y': 399},\n",
       " 'RElbow-RWrist': {'x': 236, 'y': 391},\n",
       " 'LHip-LKnee': {'x': 505, 'y': 535},\n",
       " 'RHip-RKnee': {'x': 300, 'y': 535},\n",
       " 'LKnee-LAnkle': {'x': 516, 'y': 639},\n",
       " 'RKnee-RAnkle': {'x': 310, 'y': 650},\n",
       " 'up_right': {'x': 296, 'y': 375},\n",
       " 'up_left': {'x': 510, 'y': 384},\n",
       " 'down_right': {'x': 323, 'y': 608},\n",
       " 'down_left': {'x': 480, 'y': 596},\n",
       " 'Nose': {'x': 397, 'y': 178},\n",
       " 'LEar': {'x': 482, 'y': 135},\n",
       " 'REar': {'x': 317, 'y': 140},\n",
       " 'LEye': {'x': 438, 'y': 93},\n",
       " 'REye': {'x': 376, 'y': 92}}"
      ]
     },
     "execution_count": 7,
     "metadata": {},
     "output_type": "execute_result"
    }
   ],
   "source": [
    "ShapImAuto.get_positions()"
   ]
  },
  {
   "cell_type": "code",
   "execution_count": null,
   "metadata": {},
   "outputs": [],
   "source": []
  }
 ],
 "metadata": {
  "kernelspec": {
   "display_name": "Python 3.8.10 ('venv': venv)",
   "language": "python",
   "name": "python3"
  },
  "language_info": {
   "codemirror_mode": {
    "name": "ipython",
    "version": 3
   },
   "file_extension": ".py",
   "mimetype": "text/x-python",
   "name": "python",
   "nbconvert_exporter": "python",
   "pygments_lexer": "ipython3",
   "version": "3.8.10"
  },
  "orig_nbformat": 4,
  "vscode": {
   "interpreter": {
    "hash": "99249213f9dde008bb704cdddac31ecd17ef3ebbb80792bbf1b7330df504fdb9"
   }
  }
 },
 "nbformat": 4,
 "nbformat_minor": 2
}
