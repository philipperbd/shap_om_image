{
 "cells": [
  {
   "cell_type": "code",
   "execution_count": 1,
   "metadata": {},
   "outputs": [],
   "source": [
    "from shap_on_image.ShapOnImageAuto import ShapOnImageAuto\n",
    "import json"
   ]
  },
  {
   "cell_type": "code",
   "execution_count": 2,
   "metadata": {},
   "outputs": [],
   "source": [
    "image = 'baby.png'\n",
    "features = [\n",
    "    \"RShoulder\",\"RElbow\",\"RWrist\",\"LShoulder\",\"LElbow\",\"LWrist\",\n",
    "    \"RHip\", \"RKnee\",\"RAnkle\",\"LHip\",\"LKnee\",\"LAnkle\",\n",
    "\n",
    "    \"LShoulder-LElbow\",\"RShoulder-RElbow\",\"LElbow-LWrist\",\"RElbow-RWrist\",\n",
    "    \"LHip-LKnee\",\"RHip-RKnee\",\"LKnee-LAnkle\",\"RKnee-RAnkle\",\n",
    "\n",
    "    \"up_right\",\"up_left\",\"down_right\",\"down_left\",\n",
    "    \"Nose\", \"LEar\", \"REar\", \"LEye\", \"REye\"]"
   ]
  },
  {
   "cell_type": "code",
   "execution_count": 3,
   "metadata": {},
   "outputs": [],
   "source": [
    "path = 'Data/V2/'\n",
    "with open(path + 'values.json') as json_file:\n",
    "    values = json.load(json_file)\n",
    "with open(path + 'shap_face_scalled.json') as shap_file:\n",
    "    shap = json.load(shap_file)\n",
    "with open(path + 'auc_face.json') as auc_file:\n",
    "    auc = json.load(auc_file)\n",
    "with open(path + 'positions.json') as pos_file:\n",
    "    positions = json.load(pos_file)"
   ]
  },
  {
   "cell_type": "code",
   "execution_count": 4,
   "metadata": {},
   "outputs": [],
   "source": [
    "ShapImAuto = ShapOnImageAuto(image=image, features=features, positions=positions, values=values, shap=shap, auc=auc)"
   ]
  },
  {
   "cell_type": "code",
   "execution_count": 5,
   "metadata": {},
   "outputs": [],
   "source": [
    "ShapImAuto.create_plots(path=\"Visuals/visuals_values_test/\", alpha=1000)"
   ]
  },
  {
   "cell_type": "code",
   "execution_count": null,
   "metadata": {},
   "outputs": [],
   "source": []
  }
 ],
 "metadata": {
  "kernelspec": {
   "display_name": "Python 3.8.10 ('venv': venv)",
   "language": "python",
   "name": "python3"
  },
  "language_info": {
   "codemirror_mode": {
    "name": "ipython",
    "version": 3
   },
   "file_extension": ".py",
   "mimetype": "text/x-python",
   "name": "python",
   "nbconvert_exporter": "python",
   "pygments_lexer": "ipython3",
   "version": "3.8.10"
  },
  "orig_nbformat": 4,
  "vscode": {
   "interpreter": {
    "hash": "99249213f9dde008bb704cdddac31ecd17ef3ebbb80792bbf1b7330df504fdb9"
   }
  }
 },
 "nbformat": 4,
 "nbformat_minor": 2
}
