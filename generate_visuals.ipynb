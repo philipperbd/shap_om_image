{
 "cells": [
  {
   "cell_type": "code",
   "execution_count": 2,
   "metadata": {},
   "outputs": [],
   "source": [
    "from shap_on_image.ShapOnImageAuto import ShapOnImageAuto\n",
    "import json"
   ]
  },
  {
   "cell_type": "code",
   "execution_count": 3,
   "metadata": {},
   "outputs": [],
   "source": [
    "# TODO: créer un visuel bébé plus propre avec segments\n",
    "image = 'baby_v2.png'"
   ]
  },
  {
   "cell_type": "code",
   "execution_count": 4,
   "metadata": {},
   "outputs": [],
   "source": [
    "features = [\n",
    "    \"RShoulder\",\"RElbow\",\"RWrist\",\"LShoulder\",\"LElbow\",\"LWrist\",\n",
    "    \"RHip\", \"RKnee\",\"RAnkle\",\"LHip\",\"LKnee\",\"LAnkle\",\n",
    "\n",
    "    \"LShoulder-LElbow\",\"RShoulder-RElbow\",\"LElbow-LWrist\",\"RElbow-RWrist\",\n",
    "    \"LHip-LKnee\",\"RHip-RKnee\",\"LKnee-LAnkle\",\"RKnee-RAnkle\",\n",
    "\n",
    "    \"up_right\",\"up_left\",\"down_right\",\"down_left\",\n",
    "    \"Nose\", \"LEar\", \"REar\", \"LEye\", \"REye\"]"
   ]
  },
  {
   "cell_type": "code",
   "execution_count": 5,
   "metadata": {},
   "outputs": [],
   "source": [
    "with open('dict_by_dataset_scalled.json') as json_file:\n",
    "    shap = json.load(json_file)"
   ]
  },
  {
   "cell_type": "code",
   "execution_count": 6,
   "metadata": {},
   "outputs": [],
   "source": [
    "with open('score_dict.json') as json_file:\n",
    "    auc = json.load(json_file)"
   ]
  },
  {
   "cell_type": "code",
   "execution_count": 11,
   "metadata": {},
   "outputs": [],
   "source": [
    "# TODO: créer une première fois puis récupérer via package\n",
    "positions = {'RShoulder': {'x': 148, 'y': 162},\n",
    " 'RElbow': {'x': 84, 'y': 221},\n",
    " 'RWrist': {'x': 45, 'y': 178},\n",
    " 'LShoulder': {'x': 250, 'y': 155},\n",
    " 'LElbow': {'x': 311, 'y': 210},\n",
    " 'LWrist': {'x': 353, 'y': 170},\n",
    " 'RHip': {'x': 166, 'y': 289},\n",
    " 'RKnee': {'x': 106, 'y': 347},\n",
    " 'RAnkle': {'x': 168, 'y': 415},\n",
    " 'LHip': {'x': 240, 'y': 284},\n",
    " 'LKnee': {'x': 289, 'y': 341},\n",
    " 'LAnkle': {'x': 238, 'y': 410},\n",
    " 'LShoulder-LElbow': {'x': 286, 'y': 188},\n",
    " 'RShoulder-RElbow': {'x': 114, 'y': 185},\n",
    " 'LElbow-LWrist': {'x': 347, 'y': 184},\n",
    " 'RElbow-RWrist': {'x': 56, 'y': 194},\n",
    " 'LHip-LKnee': {'x': 273, 'y': 312},\n",
    " 'RHip-RKnee': {'x': 147, 'y': 309},\n",
    " 'LKnee-LAnkle': {'x': 276, 'y': 378},\n",
    " 'RKnee-RAnkle': {'x': 139, 'y': 384},\n",
    " 'top_right': {'x': 296, 'y': 375},\n",
    " 'top_left': {'x': 510, 'y': 384},\n",
    " 'bot_right': {'x': 323, 'y': 608},\n",
    " 'bot_left': {'x': 480, 'y': 596},\n",
    " 'Nose': {'x': 198, 'y': 80},\n",
    " 'LEar': {'x': 256, 'y': 51},\n",
    " 'REar': {'x': 144, 'y': 55},\n",
    " 'LEye': {'x': 224, 'y': 39},\n",
    " 'REye': {'x': 185, 'y': 33},\n",
    " 'up_right': {'x': 87, 'y': 178},\n",
    " 'up_left': {'x': 311, 'y': 172},\n",
    " 'down_right': {'x': 128, 'y': 359},\n",
    " 'down_left': {'x': 270, 'y': 356}}"
   ]
  },
  {
   "cell_type": "code",
   "execution_count": 12,
   "metadata": {},
   "outputs": [],
   "source": [
    "ShapImAuto = ShapOnImageAuto(image=image, features=features, positions=positions, shap=shap, auc=auc)\n",
    "#ShapImAuto = ShapOnImageAuto(image=image, features=features, shap=shap, positions=positions, auc=auc)"
   ]
  },
  {
   "cell_type": "code",
   "execution_count": 14,
   "metadata": {},
   "outputs": [],
   "source": [
    "ShapImAuto.create_plots(path=\"visuals_v2/\", alpha=1000)"
   ]
  },
  {
   "cell_type": "code",
   "execution_count": 9,
   "metadata": {},
   "outputs": [
    {
     "name": "stdout",
     "output_type": "stream",
     "text": [
      "Positions for RShoulder 148 162\n",
      "Positions for RElbow 84 221\n",
      "Positions for RWrist 45 178\n",
      "Positions for LShoulder 250 155\n",
      "Positions for LElbow 311 210\n",
      "Positions for LWrist 353 170\n",
      "Positions for RHip 166 289\n",
      "Positions for RKnee 106 347\n",
      "Positions for RAnkle 168 415\n",
      "Positions for LHip 240 284\n",
      "Positions for LKnee 289 341\n",
      "Positions for LAnkle 238 410\n",
      "Positions for LShoulder-LElbow 286 188\n",
      "Positions for RShoulder-RElbow 114 185\n",
      "Positions for LElbow-LWrist 347 184\n",
      "Positions for RElbow-RWrist 56 194\n",
      "Positions for LHip-LKnee 273 312\n",
      "Positions for RHip-RKnee 147 309\n",
      "Positions for LKnee-LAnkle 276 378\n",
      "Positions for RKnee-RAnkle 139 384\n",
      "Positions for up_right 87 178\n",
      "Positions for up_left 311 172\n",
      "Positions for down_right 128 359\n",
      "Positions for down_left 270 356\n",
      "Positions for Nose 198 80\n",
      "Positions for LEar 256 51\n",
      "Positions for REar 144 55\n",
      "Positions for LEye 224 39\n",
      "Positions for REye 185 33\n"
     ]
    }
   ],
   "source": [
    "ShapImAuto.set_positions()"
   ]
  },
  {
   "cell_type": "code",
   "execution_count": 10,
   "metadata": {},
   "outputs": [
    {
     "data": {
      "text/plain": [
       "{'RShoulder': {'x': 148, 'y': 162},\n",
       " 'RElbow': {'x': 84, 'y': 221},\n",
       " 'RWrist': {'x': 45, 'y': 178},\n",
       " 'LShoulder': {'x': 250, 'y': 155},\n",
       " 'LElbow': {'x': 311, 'y': 210},\n",
       " 'LWrist': {'x': 353, 'y': 170},\n",
       " 'RHip': {'x': 166, 'y': 289},\n",
       " 'RKnee': {'x': 106, 'y': 347},\n",
       " 'RAnkle': {'x': 168, 'y': 415},\n",
       " 'LHip': {'x': 240, 'y': 284},\n",
       " 'LKnee': {'x': 289, 'y': 341},\n",
       " 'LAnkle': {'x': 238, 'y': 410},\n",
       " 'LShoulder-LElbow': {'x': 286, 'y': 188},\n",
       " 'RShoulder-RElbow': {'x': 114, 'y': 185},\n",
       " 'LElbow-LWrist': {'x': 347, 'y': 184},\n",
       " 'RElbow-RWrist': {'x': 56, 'y': 194},\n",
       " 'LHip-LKnee': {'x': 273, 'y': 312},\n",
       " 'RHip-RKnee': {'x': 147, 'y': 309},\n",
       " 'LKnee-LAnkle': {'x': 276, 'y': 378},\n",
       " 'RKnee-RAnkle': {'x': 139, 'y': 384},\n",
       " 'top_right': {'x': 296, 'y': 375},\n",
       " 'top_left': {'x': 510, 'y': 384},\n",
       " 'bot_right': {'x': 323, 'y': 608},\n",
       " 'bot_left': {'x': 480, 'y': 596},\n",
       " 'Nose': {'x': 198, 'y': 80},\n",
       " 'LEar': {'x': 256, 'y': 51},\n",
       " 'REar': {'x': 144, 'y': 55},\n",
       " 'LEye': {'x': 224, 'y': 39},\n",
       " 'REye': {'x': 185, 'y': 33},\n",
       " 'up_right': {'x': 87, 'y': 178},\n",
       " 'up_left': {'x': 311, 'y': 172},\n",
       " 'down_right': {'x': 128, 'y': 359},\n",
       " 'down_left': {'x': 270, 'y': 356}}"
      ]
     },
     "execution_count": 10,
     "metadata": {},
     "output_type": "execute_result"
    }
   ],
   "source": [
    "ShapImAuto.get_positions()"
   ]
  },
  {
   "cell_type": "code",
   "execution_count": null,
   "metadata": {},
   "outputs": [],
   "source": []
  }
 ],
 "metadata": {
  "kernelspec": {
   "display_name": "Python 3.8.10 ('venv': venv)",
   "language": "python",
   "name": "python3"
  },
  "language_info": {
   "codemirror_mode": {
    "name": "ipython",
    "version": 3
   },
   "file_extension": ".py",
   "mimetype": "text/x-python",
   "name": "python",
   "nbconvert_exporter": "python",
   "pygments_lexer": "ipython3",
   "version": "3.8.10"
  },
  "orig_nbformat": 4,
  "vscode": {
   "interpreter": {
    "hash": "99249213f9dde008bb704cdddac31ecd17ef3ebbb80792bbf1b7330df504fdb9"
   }
  }
 },
 "nbformat": 4,
 "nbformat_minor": 2
}
