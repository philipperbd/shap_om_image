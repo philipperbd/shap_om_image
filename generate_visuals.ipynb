{
 "cells": [
  {
   "cell_type": "code",
   "execution_count": 1,
   "metadata": {},
   "outputs": [],
   "source": [
    "from shap_on_image.ShapOnImageAuto import ShapOnImageAuto\n",
    "import json"
   ]
  },
  {
   "cell_type": "code",
   "execution_count": 2,
   "metadata": {},
   "outputs": [],
   "source": [
    "# TODO: créer un visuel bébé plus propre avec segments\n",
    "image = 'image_test.jpg'"
   ]
  },
  {
   "cell_type": "code",
   "execution_count": 3,
   "metadata": {},
   "outputs": [],
   "source": [
    "features = [\n",
    "    \"RShoulder\",\"RElbow\",\"RWrist\",\"LShoulder\",\"LElbow\",\"LWrist\",\n",
    "    \"RHip\", \"RKnee\",\"RAnkle\",\"LHip\",\"LKnee\",\"LAnkle\",\n",
    "\n",
    "    \"LShoulder-LElbow\",\"RShoulder-RElbow\",\"LElbow-LWrist\",\"RElbow-RWrist\",\n",
    "    \"LHip-LKnee\",\"RHip-RKnee\",\"LKnee-LAnkle\",\"RKnee-RAnkle\",\n",
    "\n",
    "    \"up_right\",\"up_left\",\"down_right\",\"down_left\",\n",
    "    \"Nose\", \"LEar\", \"REar\", \"LEye\", \"REye\"]"
   ]
  },
  {
   "cell_type": "code",
   "execution_count": 4,
   "metadata": {},
   "outputs": [],
   "source": [
    "with open('dict_by_dataset_scalled.json') as json_file:\n",
    "    shap = json.load(json_file)"
   ]
  },
  {
   "cell_type": "code",
   "execution_count": 5,
   "metadata": {},
   "outputs": [],
   "source": [
    "with open('score_dict.json') as json_file:\n",
    "    auc = json.load(json_file)"
   ]
  },
  {
   "cell_type": "code",
   "execution_count": 6,
   "metadata": {},
   "outputs": [],
   "source": [
    "# TODO: créer une première fois puis récupérer via package\n",
    "positions = {'RShoulder': {'x': 325, 'y': 297},\n",
    " 'RElbow': {'x': 267, 'y': 360},\n",
    " 'RWrist': {'x': 192, 'y': 426},\n",
    " 'LShoulder': {'x': 473, 'y': 296},\n",
    " 'LElbow': {'x': 544, 'y': 361},\n",
    " 'LWrist': {'x': 620, 'y': 430},\n",
    " 'RHip': {'x': 357, 'y': 497},\n",
    " 'RKnee': {'x': 267, 'y': 585},\n",
    " 'RAnkle': {'x': 355, 'y': 697},\n",
    " 'LHip': {'x': 460, 'y': 504},\n",
    " 'LKnee': {'x': 534, 'y': 573},\n",
    " 'LAnkle': {'x': 462, 'y': 692},\n",
    " 'LShoulder-LElbow': {'x': 525, 'y': 330},\n",
    " 'RShoulder-RElbow': {'x': 301, 'y': 327},\n",
    " 'LElbow-LWrist': {'x': 588, 'y': 399},\n",
    " 'RElbow-RWrist': {'x': 236, 'y': 391},\n",
    " 'LHip-LKnee': {'x': 505, 'y': 535},\n",
    " 'RHip-RKnee': {'x': 300, 'y': 535},\n",
    " 'LKnee-LAnkle': {'x': 516, 'y': 639},\n",
    " 'RKnee-RAnkle': {'x': 310, 'y': 650},\n",
    " 'top_right': {'x': 296, 'y': 375},\n",
    " 'top_left': {'x': 510, 'y': 384},\n",
    " 'bot_right': {'x': 323, 'y': 608},\n",
    " 'bot_left': {'x': 480, 'y': 596},\n",
    " 'Nose': {'x': 397, 'y': 178},\n",
    " 'LEar': {'x': 482, 'y': 135},\n",
    " 'REar': {'x': 317, 'y': 140},\n",
    " 'LEye': {'x': 438, 'y': 93},\n",
    " 'REye': {'x': 376, 'y': 92}}"
   ]
  },
  {
   "cell_type": "code",
   "execution_count": 7,
   "metadata": {},
   "outputs": [],
   "source": [
    "ShapImAuto = ShapOnImageAuto(image=image, features=features, positions=positions, shap=shap, auc=auc)\n",
    "#ShapImAuto = ShapOnImageAuto(image=image, features=features, shap=shap, positions=positions)"
   ]
  },
  {
   "cell_type": "code",
   "execution_count": 10,
   "metadata": {},
   "outputs": [],
   "source": [
    "ShapImAuto.create_plots(path=\"visuals/\", alpha=1000)"
   ]
  },
  {
   "cell_type": "code",
   "execution_count": 8,
   "metadata": {},
   "outputs": [
    {
     "name": "stdout",
     "output_type": "stream",
     "text": [
      "Positions for RShoulder 399 409\n",
      "Positions for RElbow "
     ]
    }
   ],
   "source": [
    "ShapImAuto.set_positions()"
   ]
  },
  {
   "cell_type": "code",
   "execution_count": 7,
   "metadata": {},
   "outputs": [
    {
     "data": {
      "text/plain": [
       "{'RShoulder': {'x': 325, 'y': 297},\n",
       " 'RElbow': {'x': 267, 'y': 360},\n",
       " 'RWrist': {'x': 192, 'y': 426},\n",
       " 'LShoulder': {'x': 473, 'y': 296},\n",
       " 'LElbow': {'x': 544, 'y': 361},\n",
       " 'LWrist': {'x': 620, 'y': 430},\n",
       " 'RHip': {'x': 357, 'y': 497},\n",
       " 'RKnee': {'x': 267, 'y': 585},\n",
       " 'RAnkle': {'x': 355, 'y': 697},\n",
       " 'LHip': {'x': 460, 'y': 504},\n",
       " 'LKnee': {'x': 534, 'y': 573},\n",
       " 'LAnkle': {'x': 462, 'y': 692},\n",
       " 'LShoulder-LElbow': {'x': 525, 'y': 330},\n",
       " 'RShoulder-RElbow': {'x': 301, 'y': 327},\n",
       " 'LElbow-LWrist': {'x': 588, 'y': 399},\n",
       " 'RElbow-RWrist': {'x': 236, 'y': 391},\n",
       " 'LHip-LKnee': {'x': 505, 'y': 535},\n",
       " 'RHip-RKnee': {'x': 300, 'y': 535},\n",
       " 'LKnee-LAnkle': {'x': 516, 'y': 639},\n",
       " 'RKnee-RAnkle': {'x': 310, 'y': 650},\n",
       " 'up_right': {'x': 296, 'y': 375},\n",
       " 'up_left': {'x': 510, 'y': 384},\n",
       " 'down_right': {'x': 323, 'y': 608},\n",
       " 'down_left': {'x': 480, 'y': 596},\n",
       " 'Nose': {'x': 397, 'y': 178},\n",
       " 'LEar': {'x': 482, 'y': 135},\n",
       " 'REar': {'x': 317, 'y': 140},\n",
       " 'LEye': {'x': 438, 'y': 93},\n",
       " 'REye': {'x': 376, 'y': 92}}"
      ]
     },
     "execution_count": 7,
     "metadata": {},
     "output_type": "execute_result"
    }
   ],
   "source": [
    "ShapImAuto.get_positions()"
   ]
  },
  {
   "cell_type": "code",
   "execution_count": null,
   "metadata": {},
   "outputs": [],
   "source": []
  }
 ],
 "metadata": {
  "kernelspec": {
   "display_name": "Python 3.8.10 ('venv': venv)",
   "language": "python",
   "name": "python3"
  },
  "language_info": {
   "codemirror_mode": {
    "name": "ipython",
    "version": 3
   },
   "file_extension": ".py",
   "mimetype": "text/x-python",
   "name": "python",
   "nbconvert_exporter": "python",
   "pygments_lexer": "ipython3",
   "version": "3.8.10"
  },
  "orig_nbformat": 4,
  "vscode": {
   "interpreter": {
    "hash": "99249213f9dde008bb704cdddac31ecd17ef3ebbb80792bbf1b7330df504fdb9"
   }
  }
 },
 "nbformat": 4,
 "nbformat_minor": 2
}
