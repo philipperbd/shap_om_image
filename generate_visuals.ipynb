{
 "cells": [
  {
   "cell_type": "code",
   "execution_count": 1,
   "metadata": {},
   "outputs": [],
   "source": [
    "from shap_on_image.ShapOnImageAuto import ShapOnImageAuto\n",
    "import json"
   ]
  },
  {
   "cell_type": "code",
   "execution_count": 2,
   "metadata": {},
   "outputs": [],
   "source": [
    "# TODO: créer un visuel bébé plus propre avec segments\n",
    "image = 'image_test.jpg'"
   ]
  },
  {
   "cell_type": "code",
   "execution_count": 3,
   "metadata": {},
   "outputs": [],
   "source": [
    "# TODO: récupérer l'ensemble des features\n",
    "features = [\n",
    "    \"RShoulder\",\"RElbow\",\"RWrist\",\"LShoulder\",\"LElbow\",\"LWrist\",\n",
    "    \"RHip\", \"RKnee\",\"RAnkle\",\"LHip\",\"LKnee\",\"LAnkle\",\n",
    "\n",
    "    \"LShoulder-LElbow\",\"RShoulder-RElbow\",\"LElbow-LWrist\",\"RElbow-RWrist\",\n",
    "    \"LHip-LKnee\",\"RHip-RKnee\",\"LKnee-LAnkle\",\"RKnee-RAnkle\",\n",
    "\n",
    "    \"up_right\",\"up_left\",\"down_right\",\"down_left\",\n",
    "    \"Nose\", \"LEar\", \"REar\", \"LEye\", \"REye\"]"
   ]
  },
  {
   "cell_type": "code",
   "execution_count": 4,
   "metadata": {},
   "outputs": [],
   "source": [
    "with open('dict_by_dataset.json') as json_file:\n",
    "    shap = json.load(json_file)"
   ]
  },
  {
   "cell_type": "code",
   "execution_count": 5,
   "metadata": {},
   "outputs": [],
   "source": [
    "# TODO: créer une première fois puis récupérer via package\n",
    "positions = {'RShoulder': {'x': 325, 'y': 297},\n",
    " 'RElbow': {'x': 267, 'y': 360},\n",
    " 'RWrist': {'x': 192, 'y': 426},\n",
    " 'LShoulder': {'x': 473, 'y': 296},\n",
    " 'LElbow': {'x': 544, 'y': 361},\n",
    " 'LWrist': {'x': 620, 'y': 430},\n",
    " 'RHip': {'x': 357, 'y': 497},\n",
    " 'RKnee': {'x': 267, 'y': 585},\n",
    " 'RAnkle': {'x': 355, 'y': 697},\n",
    " 'LHip': {'x': 460, 'y': 504},\n",
    " 'LKnee': {'x': 534, 'y': 573},\n",
    " 'LAnkle': {'x': 462, 'y': 692},\n",
    " 'LShoulder-LElbow': {'x': 525, 'y': 330},\n",
    " 'RShoulder-RElbow': {'x': 301, 'y': 327},\n",
    " 'LElbow-LWrist': {'x': 588, 'y': 399},\n",
    " 'RElbow-RWrist': {'x': 236, 'y': 391},\n",
    " 'LHip-LKnee': {'x': 505, 'y': 535},\n",
    " 'RHip-RKnee': {'x': 300, 'y': 535},\n",
    " 'LKnee-LAnkle': {'x': 516, 'y': 639},\n",
    " 'RKnee-RAnkle': {'x': 310, 'y': 650},\n",
    " 'up_right': {'x': 296, 'y': 375},\n",
    " 'up_left': {'x': 510, 'y': 384},\n",
    " 'down_right': {'x': 323, 'y': 608},\n",
    " 'down_left': {'x': 480, 'y': 596},\n",
    " 'Nose': {'x': 397, 'y': 178},\n",
    " 'LEar': {'x': 482, 'y': 135},\n",
    " 'REar': {'x': 317, 'y': 140},\n",
    " 'LEye': {'x': 438, 'y': 93},\n",
    " 'REye': {'x': 376, 'y': 92}}"
   ]
  },
  {
   "cell_type": "code",
   "execution_count": 8,
   "metadata": {},
   "outputs": [],
   "source": [
    "#ShapImAuto = ShapOnImageAuto(image=image, features=features, shap=shap)\n",
    "auc = {'depth': {\n",
    "    'auc': 97.21,\n",
    "    'std': 0.02},}\n",
    "ShapImAuto = ShapOnImageAuto(image=image, features=features, shap=shap, auc=auc)\n",
    "#ShapImAuto = ShapOnImageAuto(image=image, features=features, shap=shap, positions=positions)"
   ]
  },
  {
   "cell_type": "code",
   "execution_count": 9,
   "metadata": {},
   "outputs": [
    {
     "name": "stdout",
     "output_type": "stream",
     "text": [
      "depth_normal\n",
      "depth_normal\n",
      "depth_anormal\n",
      "depth_anormal\n",
      "segments_len_normal\n",
      "segments_len_normal\n",
      "segments_len_anormal\n",
      "segments_len_anormal\n",
      "linear_data_normal\n",
      "linear_data_normal\n",
      "linear_data_anormal\n",
      "linear_data_anormal\n",
      "linear_acceleration_normal\n",
      "linear_acceleration_normal\n",
      "linear_acceleration_anormal\n",
      "linear_acceleration_anormal\n",
      "linear_jurk_normal\n",
      "linear_jurk_normal\n",
      "linear_jurk_anormal\n",
      "linear_jurk_anormal\n",
      "angular_data_normal\n",
      "angular_data_normal\n",
      "angular_data_anormal\n",
      "angular_data_anormal\n",
      "angular_acceleration_normal\n",
      "angular_acceleration_normal\n",
      "angular_acceleration_anormal\n",
      "angular_acceleration_anormal\n",
      "angular_jurk_normal\n",
      "angular_jurk_normal\n",
      "angular_jurk_anormal\n",
      "angular_jurk_anormal\n"
     ]
    }
   ],
   "source": [
    "ShapImAuto.create_plots(path=\"visuals/\", alpha=180)"
   ]
  },
  {
   "cell_type": "code",
   "execution_count": 6,
   "metadata": {},
   "outputs": [
    {
     "name": "stdout",
     "output_type": "stream",
     "text": [
      "Positions for RShoulder 325 297\n",
      "Positions for RElbow 267 360\n",
      "Positions for RWrist 192 426\n",
      "Positions for LShoulder 473 296\n",
      "Positions for LElbow 544 361\n",
      "Positions for LWrist 620 430\n",
      "Positions for RHip 357 497\n",
      "Positions for RKnee 267 585\n",
      "Positions for RAnkle 355 697\n",
      "Positions for LHip 460 504\n",
      "Positions for LKnee 534 573\n",
      "Positions for LAnkle 462 692\n",
      "Positions for LShoulder-LElbow 525 330\n",
      "Positions for RShoulder-RElbow 301 327\n",
      "Positions for LElbow-LWrist 588 399\n",
      "Positions for RElbow-RWrist 236 391\n",
      "Positions for LHip-LKnee 505 535\n",
      "Positions for RHip-RKnee 300 535\n",
      "Positions for LKnee-LAnkle 516 639\n",
      "Positions for RKnee-RAnkle 310 650\n",
      "Positions for up_right 296 375\n",
      "Positions for up_left 510 384\n",
      "Positions for down_right 323 608\n",
      "Positions for down_left 480 596\n",
      "Positions for Nose 397 178\n",
      "Positions for LEar 482 135\n",
      "Positions for REar 317 140\n",
      "Positions for LEye 438 93\n",
      "Positions for REye 376 92\n"
     ]
    }
   ],
   "source": [
    "ShapImAuto.set_positions()"
   ]
  },
  {
   "cell_type": "code",
   "execution_count": 7,
   "metadata": {},
   "outputs": [
    {
     "data": {
      "text/plain": [
       "{'RShoulder': {'x': 325, 'y': 297},\n",
       " 'RElbow': {'x': 267, 'y': 360},\n",
       " 'RWrist': {'x': 192, 'y': 426},\n",
       " 'LShoulder': {'x': 473, 'y': 296},\n",
       " 'LElbow': {'x': 544, 'y': 361},\n",
       " 'LWrist': {'x': 620, 'y': 430},\n",
       " 'RHip': {'x': 357, 'y': 497},\n",
       " 'RKnee': {'x': 267, 'y': 585},\n",
       " 'RAnkle': {'x': 355, 'y': 697},\n",
       " 'LHip': {'x': 460, 'y': 504},\n",
       " 'LKnee': {'x': 534, 'y': 573},\n",
       " 'LAnkle': {'x': 462, 'y': 692},\n",
       " 'LShoulder-LElbow': {'x': 525, 'y': 330},\n",
       " 'RShoulder-RElbow': {'x': 301, 'y': 327},\n",
       " 'LElbow-LWrist': {'x': 588, 'y': 399},\n",
       " 'RElbow-RWrist': {'x': 236, 'y': 391},\n",
       " 'LHip-LKnee': {'x': 505, 'y': 535},\n",
       " 'RHip-RKnee': {'x': 300, 'y': 535},\n",
       " 'LKnee-LAnkle': {'x': 516, 'y': 639},\n",
       " 'RKnee-RAnkle': {'x': 310, 'y': 650},\n",
       " 'up_right': {'x': 296, 'y': 375},\n",
       " 'up_left': {'x': 510, 'y': 384},\n",
       " 'down_right': {'x': 323, 'y': 608},\n",
       " 'down_left': {'x': 480, 'y': 596},\n",
       " 'Nose': {'x': 397, 'y': 178},\n",
       " 'LEar': {'x': 482, 'y': 135},\n",
       " 'REar': {'x': 317, 'y': 140},\n",
       " 'LEye': {'x': 438, 'y': 93},\n",
       " 'REye': {'x': 376, 'y': 92}}"
      ]
     },
     "execution_count": 7,
     "metadata": {},
     "output_type": "execute_result"
    }
   ],
   "source": [
    "ShapImAuto.get_positions()"
   ]
  },
  {
   "cell_type": "code",
   "execution_count": null,
   "metadata": {},
   "outputs": [],
   "source": []
  }
 ],
 "metadata": {
  "kernelspec": {
   "display_name": "Python 3.8.10 ('venv': venv)",
   "language": "python",
   "name": "python3"
  },
  "language_info": {
   "codemirror_mode": {
    "name": "ipython",
    "version": 3
   },
   "file_extension": ".py",
   "mimetype": "text/x-python",
   "name": "python",
   "nbconvert_exporter": "python",
   "pygments_lexer": "ipython3",
   "version": "3.8.10"
  },
  "orig_nbformat": 4,
  "vscode": {
   "interpreter": {
    "hash": "8a9255f2e197c17b6457479460178fc2cff4003fa59043f2b13630e7691933f3"
   }
  }
 },
 "nbformat": 4,
 "nbformat_minor": 2
}
