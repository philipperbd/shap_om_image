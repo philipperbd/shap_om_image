{
 "cells": [
  {
   "cell_type": "code",
   "execution_count": 1,
   "metadata": {},
   "outputs": [],
   "source": [
    "from shap_on_image.ShapOnImageAuto import ShapOnImageAuto\n",
    "import json"
   ]
  },
  {
   "cell_type": "code",
   "execution_count": 2,
   "metadata": {},
   "outputs": [],
   "source": [
    "image = 'baby.png'"
   ]
  },
  {
   "cell_type": "code",
   "execution_count": 3,
   "metadata": {},
   "outputs": [],
   "source": [
    "file = 'Data/dict_by_dataset_face_scalled'"
   ]
  },
  {
   "cell_type": "code",
   "execution_count": 4,
   "metadata": {},
   "outputs": [],
   "source": [
    "features = [\n",
    "    \"RShoulder\",\"RElbow\",\"RWrist\",\"LShoulder\",\"LElbow\",\"LWrist\",\n",
    "    \"RHip\", \"RKnee\",\"RAnkle\",\"LHip\",\"LKnee\",\"LAnkle\",\n",
    "\n",
    "    \"LShoulder-LElbow\",\"RShoulder-RElbow\",\"LElbow-LWrist\",\"RElbow-RWrist\",\n",
    "    \"LHip-LKnee\",\"RHip-RKnee\",\"LKnee-LAnkle\",\"RKnee-RAnkle\",\n",
    "\n",
    "    \"up_right\",\"up_left\",\"down_right\",\"down_left\",\n",
    "    \"Nose\", \"LEar\", \"REar\", \"LEye\", \"REye\"]"
   ]
  },
  {
   "cell_type": "code",
   "execution_count": 5,
   "metadata": {},
   "outputs": [],
   "source": [
    "with open(file + '.json') as json_file:\n",
    "    shap = json.load(json_file)"
   ]
  },
  {
   "cell_type": "code",
   "execution_count": 6,
   "metadata": {},
   "outputs": [
    {
     "ename": "FileNotFoundError",
     "evalue": "[Errno 2] No such file or directory: 'score_dict.json'",
     "output_type": "error",
     "traceback": [
      "\u001b[0;31m---------------------------------------------------------------------------\u001b[0m",
      "\u001b[0;31mFileNotFoundError\u001b[0m                         Traceback (most recent call last)",
      "Cell \u001b[0;32mIn[6], line 1\u001b[0m\n\u001b[0;32m----> 1\u001b[0m \u001b[39mwith\u001b[39;00m \u001b[39mopen\u001b[39;49m(\u001b[39m'\u001b[39;49m\u001b[39mscore_dict.json\u001b[39;49m\u001b[39m'\u001b[39;49m) \u001b[39mas\u001b[39;00m json_file:\n\u001b[1;32m      2\u001b[0m     auc \u001b[39m=\u001b[39m json\u001b[39m.\u001b[39mload(json_file)\n",
      "File \u001b[0;32m~/Documents/THESE/Rambaud_Philippe_Thesis/src/Explication_feature_importance/venv/lib/python3.8/site-packages/IPython/core/interactiveshell.py:282\u001b[0m, in \u001b[0;36m_modified_open\u001b[0;34m(file, *args, **kwargs)\u001b[0m\n\u001b[1;32m    275\u001b[0m \u001b[39mif\u001b[39;00m file \u001b[39min\u001b[39;00m {\u001b[39m0\u001b[39m, \u001b[39m1\u001b[39m, \u001b[39m2\u001b[39m}:\n\u001b[1;32m    276\u001b[0m     \u001b[39mraise\u001b[39;00m \u001b[39mValueError\u001b[39;00m(\n\u001b[1;32m    277\u001b[0m         \u001b[39mf\u001b[39m\u001b[39m\"\u001b[39m\u001b[39mIPython won\u001b[39m\u001b[39m'\u001b[39m\u001b[39mt let you open fd=\u001b[39m\u001b[39m{\u001b[39;00mfile\u001b[39m}\u001b[39;00m\u001b[39m by default \u001b[39m\u001b[39m\"\u001b[39m\n\u001b[1;32m    278\u001b[0m         \u001b[39m\"\u001b[39m\u001b[39mas it is likely to crash IPython. If you know what you are doing, \u001b[39m\u001b[39m\"\u001b[39m\n\u001b[1;32m    279\u001b[0m         \u001b[39m\"\u001b[39m\u001b[39myou can use builtins\u001b[39m\u001b[39m'\u001b[39m\u001b[39m open.\u001b[39m\u001b[39m\"\u001b[39m\n\u001b[1;32m    280\u001b[0m     )\n\u001b[0;32m--> 282\u001b[0m \u001b[39mreturn\u001b[39;00m io_open(file, \u001b[39m*\u001b[39;49margs, \u001b[39m*\u001b[39;49m\u001b[39m*\u001b[39;49mkwargs)\n",
      "\u001b[0;31mFileNotFoundError\u001b[0m: [Errno 2] No such file or directory: 'score_dict.json'"
     ]
    }
   ],
   "source": [
    "with open('Data/score_dict.json') as json_file:\n",
    "    auc = json.load(json_file)"
   ]
  },
  {
   "cell_type": "code",
   "execution_count": 7,
   "metadata": {},
   "outputs": [],
   "source": [
    "# TODO: créer une première fois puis récupérer via package\n",
    "positions = {'RShoulder': {'x': 148, 'y': 162},\n",
    " 'RElbow': {'x': 84, 'y': 221},\n",
    " 'RWrist': {'x': 45, 'y': 178},\n",
    " 'LShoulder': {'x': 250, 'y': 155},\n",
    " 'LElbow': {'x': 311, 'y': 210},\n",
    " 'LWrist': {'x': 353, 'y': 170},\n",
    " 'RHip': {'x': 166, 'y': 289},\n",
    " 'RKnee': {'x': 106, 'y': 347},\n",
    " 'RAnkle': {'x': 168, 'y': 415},\n",
    " 'LHip': {'x': 240, 'y': 284},\n",
    " 'LKnee': {'x': 289, 'y': 341},\n",
    " 'LAnkle': {'x': 238, 'y': 410},\n",
    " 'LShoulder-LElbow': {'x': 286, 'y': 188},\n",
    " 'RShoulder-RElbow': {'x': 114, 'y': 185},\n",
    " 'LElbow-LWrist': {'x': 347, 'y': 184},\n",
    " 'RElbow-RWrist': {'x': 56, 'y': 194},\n",
    " 'LHip-LKnee': {'x': 273, 'y': 312},\n",
    " 'RHip-RKnee': {'x': 147, 'y': 309},\n",
    " 'LKnee-LAnkle': {'x': 276, 'y': 378},\n",
    " 'RKnee-RAnkle': {'x': 139, 'y': 384},\n",
    " 'top_right': {'x': 84, 'y': 221},\n",
    " 'top_left': {'x': 311, 'y': 210},\n",
    " 'bot_right': {'x': 106, 'y': 347},\n",
    " 'bot_left': {'x': 289, 'y': 341},\n",
    " 'Face': {'x': 198, 'y': 80},\n",
    " 'Nose': {'x': 198, 'y': 80},\n",
    " 'LEar': {'x': 256, 'y': 51},\n",
    " 'REar': {'x': 144, 'y': 55},\n",
    " 'LEye': {'x': 224, 'y': 39},\n",
    " 'REye': {'x': 185, 'y': 33},\n",
    " 'up_right': {'x': 87, 'y': 178},\n",
    " 'up_left': {'x': 311, 'y': 172},\n",
    " 'down_right': {'x': 128, 'y': 359},\n",
    " 'down_left': {'x': 270, 'y': 356}}"
   ]
  },
  {
   "cell_type": "code",
   "execution_count": 8,
   "metadata": {},
   "outputs": [
    {
     "ename": "NameError",
     "evalue": "name 'auc' is not defined",
     "output_type": "error",
     "traceback": [
      "\u001b[0;31m---------------------------------------------------------------------------\u001b[0m",
      "\u001b[0;31mNameError\u001b[0m                                 Traceback (most recent call last)",
      "Cell \u001b[0;32mIn[8], line 1\u001b[0m\n\u001b[0;32m----> 1\u001b[0m ShapImAuto \u001b[39m=\u001b[39m ShapOnImageAuto(image\u001b[39m=\u001b[39mimage, features\u001b[39m=\u001b[39mfeatures, positions\u001b[39m=\u001b[39mpositions, shap\u001b[39m=\u001b[39mshap, auc\u001b[39m=\u001b[39mauc)\n\u001b[1;32m      2\u001b[0m \u001b[39m#ShapImAuto = ShapOnImageAuto(image=image, features=features, shap=shap, positions=positions, auc=auc)\u001b[39;00m\n",
      "\u001b[0;31mNameError\u001b[0m: name 'auc' is not defined"
     ]
    }
   ],
   "source": [
    "ShapImAuto = ShapOnImageAuto(image=image, features=features, positions=positions, shap=shap, auc=auc)\n",
    "#ShapImAuto = ShapOnImageAuto(image=image, features=features, shap=shap, positions=positions, auc=auc)"
   ]
  },
  {
   "cell_type": "code",
   "execution_count": 9,
   "metadata": {},
   "outputs": [
    {
     "ename": "NameError",
     "evalue": "name 'ShapImAuto' is not defined",
     "output_type": "error",
     "traceback": [
      "\u001b[0;31m---------------------------------------------------------------------------\u001b[0m",
      "\u001b[0;31mNameError\u001b[0m                                 Traceback (most recent call last)",
      "Cell \u001b[0;32mIn[9], line 1\u001b[0m\n\u001b[0;32m----> 1\u001b[0m ShapImAuto\u001b[39m.\u001b[39mcreate_plots(path\u001b[39m=\u001b[39m\u001b[39m\"\u001b[39m\u001b[39mVisuals/visuals_v4_face/\u001b[39m\u001b[39m\"\u001b[39m, alpha\u001b[39m=\u001b[39m\u001b[39m1000\u001b[39m)\n",
      "\u001b[0;31mNameError\u001b[0m: name 'ShapImAuto' is not defined"
     ]
    }
   ],
   "source": [
    "ShapImAuto.create_plots(path=\"Visuals/visuals_v4_face/\", alpha=1000)"
   ]
  },
  {
   "cell_type": "code",
   "execution_count": 12,
   "metadata": {},
   "outputs": [
    {
     "name": "stdout",
     "output_type": "stream",
     "text": [
      "Positions for RShoulder 202 221\n",
      "Positions for RElbow "
     ]
    }
   ],
   "source": [
    "ShapImAuto.set_positions()"
   ]
  },
  {
   "cell_type": "code",
   "execution_count": 10,
   "metadata": {},
   "outputs": [
    {
     "data": {
      "text/plain": [
       "{'RShoulder': {'x': 148, 'y': 162},\n",
       " 'RElbow': {'x': 84, 'y': 221},\n",
       " 'RWrist': {'x': 45, 'y': 178},\n",
       " 'LShoulder': {'x': 250, 'y': 155},\n",
       " 'LElbow': {'x': 311, 'y': 210},\n",
       " 'LWrist': {'x': 353, 'y': 170},\n",
       " 'RHip': {'x': 166, 'y': 289},\n",
       " 'RKnee': {'x': 106, 'y': 347},\n",
       " 'RAnkle': {'x': 168, 'y': 415},\n",
       " 'LHip': {'x': 240, 'y': 284},\n",
       " 'LKnee': {'x': 289, 'y': 341},\n",
       " 'LAnkle': {'x': 238, 'y': 410},\n",
       " 'LShoulder-LElbow': {'x': 286, 'y': 188},\n",
       " 'RShoulder-RElbow': {'x': 114, 'y': 185},\n",
       " 'LElbow-LWrist': {'x': 347, 'y': 184},\n",
       " 'RElbow-RWrist': {'x': 56, 'y': 194},\n",
       " 'LHip-LKnee': {'x': 273, 'y': 312},\n",
       " 'RHip-RKnee': {'x': 147, 'y': 309},\n",
       " 'LKnee-LAnkle': {'x': 276, 'y': 378},\n",
       " 'RKnee-RAnkle': {'x': 139, 'y': 384},\n",
       " 'top_right': {'x': 296, 'y': 375},\n",
       " 'top_left': {'x': 510, 'y': 384},\n",
       " 'bot_right': {'x': 323, 'y': 608},\n",
       " 'bot_left': {'x': 480, 'y': 596},\n",
       " 'Nose': {'x': 198, 'y': 80},\n",
       " 'LEar': {'x': 256, 'y': 51},\n",
       " 'REar': {'x': 144, 'y': 55},\n",
       " 'LEye': {'x': 224, 'y': 39},\n",
       " 'REye': {'x': 185, 'y': 33},\n",
       " 'up_right': {'x': 87, 'y': 178},\n",
       " 'up_left': {'x': 311, 'y': 172},\n",
       " 'down_right': {'x': 128, 'y': 359},\n",
       " 'down_left': {'x': 270, 'y': 356}}"
      ]
     },
     "execution_count": 10,
     "metadata": {},
     "output_type": "execute_result"
    }
   ],
   "source": [
    "ShapImAuto.get_positions()"
   ]
  },
  {
   "cell_type": "code",
   "execution_count": null,
   "metadata": {},
   "outputs": [],
   "source": []
  }
 ],
 "metadata": {
  "kernelspec": {
   "display_name": "Python 3.8.10 ('venv': venv)",
   "language": "python",
   "name": "python3"
  },
  "language_info": {
   "codemirror_mode": {
    "name": "ipython",
    "version": 3
   },
   "file_extension": ".py",
   "mimetype": "text/x-python",
   "name": "python",
   "nbconvert_exporter": "python",
   "pygments_lexer": "ipython3",
   "version": "3.8.10"
  },
  "orig_nbformat": 4,
  "vscode": {
   "interpreter": {
    "hash": "99249213f9dde008bb704cdddac31ecd17ef3ebbb80792bbf1b7330df504fdb9"
   }
  }
 },
 "nbformat": 4,
 "nbformat_minor": 2
}
