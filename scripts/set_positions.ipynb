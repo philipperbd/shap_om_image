{
 "cells": [
  {
   "cell_type": "code",
   "execution_count": 1,
   "metadata": {},
   "outputs": [],
   "source": [
    "from shap_on_image.ShapOnImageAuto import ShapOnImageAuto\n",
    "import json\n",
    "\n",
    "image = 'baby_legend_2.png'\n",
    "features = [\n",
    "    \"RShoulder\", \"RElbow\", \"RWrist\", \"LShoulder\", \"LElbow\", \"LWrist\",\n",
    "    \"RHip\", \"RKnee\", \"RAnkle\", \"LHip\", \"LKnee\", \"LAnkle\",\n",
    "\n",
    "    \"RShoulder-RElbow\", \"RElbow-RWrist\", \"LShoulder-LElbow\", \"LElbow-LWrist\",\n",
    "    \"RHip-RKnee\",  \"RKnee-RAnkle\", \"LHip-LKnee\", \"LKnee-LAnkle\",\n",
    "\n",
    "    \"top_right\", \"top_left\", \"down_right\", \"down_left\",\n",
    "    \"Nose\", \"LEar\", \"REar\", \"LEye\", \"REye\", \"Face\", \"Arrow\"]\n",
    "\n",
    "path = \"Data/V2\"\n",
    "\n",
    "r_path, version = path.rsplit('/', 1)\n",
    "\n",
    "with open(r_path + '/values.json') as json_file:\n",
    "    values = json.load(json_file)\n",
    "\n",
    "with open(path + '/shap_scalled.json') as shap_file:\n",
    "    shap = json.load(shap_file)\n",
    "    \n",
    "with open(path + '/stats.json') as stats_file:\n",
    "    stats = json.load(stats_file)\n",
    "\n",
    "\n",
    "ShapImAuto = ShapOnImageAuto(\n",
    "    image=image, features=features,\n",
    "    values=values, shap=shap, stats=stats)\n",
    "\n"
   ]
  },
  {
   "cell_type": "code",
   "execution_count": 2,
   "metadata": {},
   "outputs": [
    {
     "name": "stdout",
     "output_type": "stream",
     "text": [
      "Positions for RShoulder 403 378\n",
      "Positions for RElbow 290 497\n",
      "Positions for RWrist 209 415\n",
      "Positions for LShoulder 593 376\n",
      "Positions for LElbow 700 493\n",
      "Positions for LWrist 785 399\n",
      "Positions for RHip 423 634\n",
      "Positions for RKnee 316 722\n",
      "Positions for RAnkle 431 852\n",
      "Positions for LHip 575 628\n",
      "Positions for LKnee 679 732\n",
      "Positions for LAnkle 558 858\n",
      "Positions for LShoulder-LElbow 659 434\n",
      "Positions for RShoulder-RElbow 344 426\n",
      "Positions for LElbow-LWrist 756 433\n",
      "Positions for RElbow-RWrist 245 458\n",
      "Positions for LHip-LKnee 635 682\n",
      "Positions for RHip-RKnee 378 671\n",
      "Positions for LKnee-LAnkle 617 800\n",
      "Positions for RKnee-RAnkle 384 801\n",
      "Positions for up_right 285 436\n",
      "Positions for up_left 703 427\n",
      "Positions for down_right 330 741\n",
      "Positions for down_left 671 737\n",
      "Positions for Nose 495 217\n",
      "Positions for LEar 598 191\n",
      "Positions for REar 395 195\n",
      "Positions for LEye 543 158\n",
      "Positions for REye "
     ]
    },
    {
     "ename": "",
     "evalue": "",
     "output_type": "error",
     "traceback": [
      "\u001b[1;31mCanceled future for execute_request message before replies were done"
     ]
    },
    {
     "ename": "",
     "evalue": "",
     "output_type": "error",
     "traceback": [
      "\u001b[1;31mThe Kernel crashed while executing code in the the current cell or a previous cell. Please review the code in the cell(s) to identify a possible cause of the failure. Click <a href='https://aka.ms/vscodeJupyterKernelCrash'>here</a> for more info. View Jupyter <a href='command:jupyter.viewOutput'>log</a> for further details."
     ]
    }
   ],
   "source": [
    "ShapImAuto.set_positions()"
   ]
  },
  {
   "cell_type": "code",
   "execution_count": null,
   "metadata": {},
   "outputs": [],
   "source": [
    "print(ShapImAuto.get_positions())"
   ]
  }
 ],
 "metadata": {
  "kernelspec": {
   "display_name": "Python 3.8.10 ('venv': venv)",
   "language": "python",
   "name": "python3"
  },
  "language_info": {
   "codemirror_mode": {
    "name": "ipython",
    "version": 3
   },
   "file_extension": ".py",
   "mimetype": "text/x-python",
   "name": "python",
   "nbconvert_exporter": "python",
   "pygments_lexer": "ipython3",
   "version": "3.8.10"
  },
  "orig_nbformat": 4,
  "vscode": {
   "interpreter": {
    "hash": "8a9255f2e197c17b6457479460178fc2cff4003fa59043f2b13630e7691933f3"
   }
  }
 },
 "nbformat": 4,
 "nbformat_minor": 2
}
