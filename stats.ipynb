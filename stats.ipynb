{
 "cells": [
  {
   "cell_type": "code",
   "execution_count": 13,
   "metadata": {},
   "outputs": [],
   "source": [
    "import matplotlib.pyplot as plt\n",
    "import json\n",
    "\n",
    "def symmetry(shap, plot_name):\n",
    "    \"\"\"\n",
    "    return value of symmetry for top/bot and left/right\n",
    "    \"\"\"\n",
    "    check_list_top = [\n",
    "        'lshoulder-lelbow', 'rshoulder-relbow', 'lelbow-lwrist', 'relbow-rwrist',\n",
    "        'lshoulder', 'rshoulder', 'lelbow', 'relbow', 'lwrist', 'rwrist',\n",
    "        'top_right', 'top_left']\n",
    "    check_list_right = [\n",
    "        'rshoulder-relbow', 'relbow-rwrist', 'rshoulder', 'relbow', 'rwrist',\n",
    "        'rhip-rknee', 'rknee-rankle', 'rhip', 'rknee', 'rankle',\n",
    "        'top_right', 'bot_right']\n",
    "\n",
    "    top, bot, right, left = [], [], [], []\n",
    "    nb_top, nb_bot, nb_right, nb_left = 0, 0, 0, 0\n",
    "\n",
    "    for feature, shap_value in shap[plot_name].items():\n",
    "        if feature == \"Face\":\n",
    "            continue\n",
    "        if plot_name[:11] == 'linear_data':\n",
    "            feature = feature[:-2]\n",
    "        if feature.lower() in check_list_top:\n",
    "            top.append(shap_value)\n",
    "            nb_top += 1\n",
    "        else:\n",
    "            bot.append(shap_value)\n",
    "            nb_bot += 1\n",
    "        if feature.lower() in check_list_right:\n",
    "            right.append(shap_value)\n",
    "            nb_right += 1\n",
    "        else:\n",
    "            left.append(shap_value)\n",
    "            nb_left += 1\n",
    "\n",
    "    top, bot, right, left = sum(top), sum(bot), sum(right), sum(left)\n",
    "\n",
    "    if bot > top:\n",
    "        sym_top_bot = round((bot / top), 2)\n",
    "    else:\n",
    "        sym_top_bot = round((top / bot), 2)\n",
    "    if right > left:\n",
    "        sym_left_right = round((right / left), 2) * -1\n",
    "    else:\n",
    "        sym_left_right = round((left / right), 2)\n",
    "\n",
    "    return [sym_top_bot, sym_left_right]"
   ]
  },
  {
   "cell_type": "code",
   "execution_count": 14,
   "metadata": {},
   "outputs": [],
   "source": [
    "# ouvrir shap dict\n",
    "f = open('Data/V2/shap_v2.json')\n",
    "shap = json.load(f)\n",
    "f.close()\n",
    "\n",
    "# ouvrir auc dict\n",
    "f = open('Data/V2/auc_v2.json')\n",
    "auc = json.load(f)\n",
    "f.close()"
   ]
  },
  {
   "cell_type": "code",
   "execution_count": 15,
   "metadata": {},
   "outputs": [],
   "source": [
    "datasets = [dataset for dataset in auc.keys()]"
   ]
  },
  {
   "cell_type": "code",
   "execution_count": 16,
   "metadata": {},
   "outputs": [],
   "source": [
    "stats = auc\n",
    "for dataset in datasets:\n",
    "    t_b, l_r = [], []\n",
    "    for label in [\"_normal\", \"_anormal\"]:\n",
    "        stats[dataset][\"mean\"] = round(stats[dataset][\"mean\"], 2)\n",
    "        stats[dataset][\"std\"] = round(stats[dataset][\"std\"], 2)\n",
    "        stats[dataset][\"sym\" + label] = {}\n",
    "        if dataset != \"amplitudes\":\n",
    "            sym = symmetry(shap=shap, plot_name=dataset+label)\n",
    "            stats[dataset][\"sym\" + label][\"T-B\"] = sym[0] \n",
    "            stats[dataset][\"sym\" + label][\"L-R\"] = sym[1] \n",
    "            t_b.append(sym[0])\n",
    "            l_r.append(sym[1])\n",
    "    stats[dataset][\"sym_global\"] = {\n",
    "        \"T-B\": round(sum(t_b)/2, 2), \n",
    "        \"L-R\": round(sum(l_r)/2, 2)}"
   ]
  },
  {
   "cell_type": "code",
   "execution_count": 17,
   "metadata": {},
   "outputs": [],
   "source": [
    "json = json.dumps(stats)\n",
    "f = open(\"Data/V2/Stats/stats.json\", \"w\")\n",
    "f.write(json)\n",
    "f.close()"
   ]
  },
  {
   "cell_type": "code",
   "execution_count": null,
   "metadata": {},
   "outputs": [],
   "source": []
  }
 ],
 "metadata": {
  "kernelspec": {
   "display_name": "Python 3.8.10 ('venv': venv)",
   "language": "python",
   "name": "python3"
  },
  "language_info": {
   "codemirror_mode": {
    "name": "ipython",
    "version": 3
   },
   "file_extension": ".py",
   "mimetype": "text/x-python",
   "name": "python",
   "nbconvert_exporter": "python",
   "pygments_lexer": "ipython3",
   "version": "3.8.10"
  },
  "orig_nbformat": 4,
  "vscode": {
   "interpreter": {
    "hash": "99249213f9dde008bb704cdddac31ecd17ef3ebbb80792bbf1b7330df504fdb9"
   }
  }
 },
 "nbformat": 4,
 "nbformat_minor": 2
}
