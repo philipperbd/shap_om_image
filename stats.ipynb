{
 "cells": [
  {
   "cell_type": "code",
   "execution_count": 29,
   "metadata": {},
   "outputs": [],
   "source": [
    "import matplotlib.pyplot as plt\n",
    "import json\n",
    "\n",
    "def symmetry(shap, plot_name):\n",
    "    \"\"\"\n",
    "    return value of symmetry for top/bot and left/right\n",
    "    \"\"\"\n",
    "    check_list_top = [\n",
    "        'lshoulder-lelbow', 'rshoulder-relbow', 'lelbow-lwrist', 'relbow-rwrist',\n",
    "        'lshoulder', 'rshoulder', 'lelbow', 'relbow', 'lwrist', 'rwrist',\n",
    "        'top_right', 'top_left']\n",
    "    check_list_right = [\n",
    "        'rshoulder-relbow', 'relbow-rwrist', 'rshoulder', 'relbow', 'rwrist',\n",
    "        'rhip-rknee', 'rknee-rankle', 'rhip', 'rknee', 'rankle',\n",
    "        'top_right', 'bot_right']\n",
    "\n",
    "    top, bot, right, left = [], [], [], []\n",
    "    nb_top, nb_bot, nb_right, nb_left = 0, 0, 0, 0\n",
    "\n",
    "    for feature, shap_value in shap[plot_name].items():\n",
    "        if feature == \"Face\":\n",
    "            continue\n",
    "        if plot_name[:11] == 'linear_data':\n",
    "            feature = feature[:-2]\n",
    "        if feature.lower() in check_list_top:\n",
    "            top.append(shap_value)\n",
    "            nb_top += 1\n",
    "        else:\n",
    "            bot.append(shap_value)\n",
    "            nb_bot += 1\n",
    "        if feature.lower() in check_list_right:\n",
    "            right.append(shap_value)\n",
    "            nb_right += 1\n",
    "        else:\n",
    "            left.append(shap_value)\n",
    "            nb_left += 1\n",
    "\n",
    "    top, bot, right, left = sum(top), sum(bot), sum(right), sum(left)\n",
    "\n",
    "    if bot > top:\n",
    "        sym_top_bot = round((bot / top), 2)\n",
    "    else:\n",
    "        sym_top_bot = round((top / bot), 2)\n",
    "    if right > left:\n",
    "        sym_left_right = round((right / left), 2) * -1\n",
    "    else:\n",
    "        sym_left_right = round((left / right), 2)\n",
    "\n",
    "    return [sym_top_bot, sym_left_right]"
   ]
  },
  {
   "cell_type": "code",
   "execution_count": 30,
   "metadata": {},
   "outputs": [],
   "source": [
    "# ouvrir shap dict\n",
    "f = open('Data/V2/shap_v2.json')\n",
    "shap = json.load(f)\n",
    "f.close()\n",
    "\n",
    "# ouvrir auc dict\n",
    "f = open('Data/V2/auc_v2.json')\n",
    "auc = json.load(f)\n",
    "f.close()"
   ]
  },
  {
   "cell_type": "code",
   "execution_count": 31,
   "metadata": {},
   "outputs": [],
   "source": [
    "datasets = [dataset for dataset in auc.keys()]"
   ]
  },
  {
   "cell_type": "code",
   "execution_count": 32,
   "metadata": {},
   "outputs": [],
   "source": [
    "for dataset in datasets:\n",
    "    t_b, l_r = [], []\n",
    "    for label in [\"_normal\", \"_anormal\"]:\n",
    "        auc[dataset][\"mean\"] = round(auc[dataset][\"mean\"], 2)\n",
    "        auc[dataset][\"std\"] = round(auc[dataset][\"std\"], 2)\n",
    "        auc[dataset][\"sym\" + label] = {}\n",
    "        if dataset != \"amplitudes\":\n",
    "            sym = symmetry(shap=shap, plot_name=dataset+label)\n",
    "            auc[dataset][\"sym\" + label][\"T-B\"] = sym[0] \n",
    "            auc[dataset][\"sym\" + label][\"L-R\"] = sym[1] \n",
    "            t_b.append(sym[0])\n",
    "            l_r.append(sym[1])\n",
    "    auc[dataset][\"sym_global\"] = {\n",
    "        \"T-B\": round(sum(t_b)/2, 2), \n",
    "        \"L-R\": round(sum(l_r)/2, 2)}"
   ]
  },
  {
   "cell_type": "code",
   "execution_count": 33,
   "metadata": {},
   "outputs": [
    {
     "data": {
      "text/plain": [
       "{'angular_velocity': {'std': 0.12507623924165953,\n",
       "  'mean': 0.6855720668220668,\n",
       "  'sym_normal': {'T-B': 1.28, 'L-R': 1.53},\n",
       "  'sym_anormal': {'T-B': 1.65, 'L-R': 1.78},\n",
       "  'sym_global': {'T-B': 1.46, 'L-R': 1.66}},\n",
       " 'linear_acceleration': {'std': 0.12722988606968638,\n",
       "  'mean': 0.8888167388167387,\n",
       "  'sym_normal': {'T-B': 2.41, 'L-R': 1.26},\n",
       "  'sym_anormal': {'T-B': 1.67, 'L-R': -1.03},\n",
       "  'sym_global': {'T-B': 2.04, 'L-R': 0.11}},\n",
       " 'linear_velocity': {'std': 0.15977440840374593,\n",
       "  'mean': 0.8964355089355089,\n",
       "  'sym_normal': {'T-B': 1.57, 'L-R': -1.48},\n",
       "  'sym_anormal': {'T-B': 1.12, 'L-R': -1.87},\n",
       "  'sym_global': {'T-B': 1.35, 'L-R': -1.68}},\n",
       " 'angular_jurk': {'std': 0.0938579213934219,\n",
       "  'mean': 0.6625208125208124,\n",
       "  'sym_normal': {'T-B': 1.91, 'L-R': -1.5},\n",
       "  'sym_anormal': {'T-B': 1.14, 'L-R': 1.08},\n",
       "  'sym_global': {'T-B': 1.52, 'L-R': -0.21}},\n",
       " 'angular_data': {'std': 0.17497455402402012,\n",
       "  'mean': 0.692074592074592,\n",
       "  'sym_normal': {'T-B': 2.85, 'L-R': 2.74},\n",
       "  'sym_anormal': {'T-B': 4.76, 'L-R': 2.97},\n",
       "  'sym_global': {'T-B': 3.8, 'L-R': 2.86}},\n",
       " 'amplitudes': {'std': 0.17770122451493914,\n",
       "  'mean': 0.851519314019314,\n",
       "  'sym_normal': {},\n",
       "  'sym_anormal': {},\n",
       "  'sym_global': {'T-B': 0.0, 'L-R': 0.0}},\n",
       " 'linear_jurk': {'std': 0.13627034380197928,\n",
       "  'mean': 0.8457070707070707,\n",
       "  'sym_normal': {'T-B': 1.95, 'L-R': -1.37},\n",
       "  'sym_anormal': {'T-B': 1.78, 'L-R': -1.92},\n",
       "  'sym_global': {'T-B': 1.86, 'L-R': -1.65}},\n",
       " 'depth': {'std': 0.13478699675768824,\n",
       "  'mean': 0.8980741480741482,\n",
       "  'sym_normal': {'T-B': 4.18, 'L-R': -1.68},\n",
       "  'sym_anormal': {'T-B': 3.7, 'L-R': -1.5},\n",
       "  'sym_global': {'T-B': 3.94, 'L-R': -1.59}},\n",
       " 'angular_acceleration': {'std': 0.13462082196076286,\n",
       "  'mean': 0.6386599511599512,\n",
       "  'sym_normal': {'T-B': 6.48, 'L-R': 1.13},\n",
       "  'sym_anormal': {'T-B': 5.0, 'L-R': 1.37},\n",
       "  'sym_global': {'T-B': 5.74, 'L-R': 1.25}},\n",
       " 'linear_data': {'std': 0.20873137076586135,\n",
       "  'mean': 0.7946220446220447,\n",
       "  'sym_normal': {'T-B': 2.36, 'L-R': 2.54},\n",
       "  'sym_anormal': {'T-B': 2.07, 'L-R': 2.43},\n",
       "  'sym_global': {'T-B': 2.21, 'L-R': 2.49}},\n",
       " 'segments_len': {'std': 0.07452726534997363,\n",
       "  'mean': 0.9371975246975246,\n",
       "  'sym_normal': {'T-B': 4.28, 'L-R': 1.3},\n",
       "  'sym_anormal': {'T-B': 3.45, 'L-R': 1.22},\n",
       "  'sym_global': {'T-B': 3.87, 'L-R': 1.26}}}"
      ]
     },
     "execution_count": 33,
     "metadata": {},
     "output_type": "execute_result"
    }
   ],
   "source": [
    "auc"
   ]
  },
  {
   "cell_type": "code",
   "execution_count": null,
   "metadata": {},
   "outputs": [],
   "source": []
  }
 ],
 "metadata": {
  "kernelspec": {
   "display_name": "Python 3.8.10 ('venv': venv)",
   "language": "python",
   "name": "python3"
  },
  "language_info": {
   "codemirror_mode": {
    "name": "ipython",
    "version": 3
   },
   "file_extension": ".py",
   "mimetype": "text/x-python",
   "name": "python",
   "nbconvert_exporter": "python",
   "pygments_lexer": "ipython3",
   "version": "3.8.10"
  },
  "orig_nbformat": 4,
  "vscode": {
   "interpreter": {
    "hash": "8a9255f2e197c17b6457479460178fc2cff4003fa59043f2b13630e7691933f3"
   }
  }
 },
 "nbformat": 4,
 "nbformat_minor": 2
}
